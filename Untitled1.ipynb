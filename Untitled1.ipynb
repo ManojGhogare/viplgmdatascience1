{
  "nbformat": 4,
  "nbformat_minor": 0,
  "metadata": {
    "colab": {
      "name": "Untitled1.ipynb",
      "provenance": [],
      "authorship_tag": "ABX9TyM9k6/7yFOxkub6znCGxxZL",
      "include_colab_link": true
    },
    "kernelspec": {
      "name": "python3",
      "display_name": "Python 3"
    },
    "language_info": {
      "name": "python"
    }
  },
  "cells": [
    {
      "cell_type": "markdown",
      "metadata": {
        "id": "view-in-github",
        "colab_type": "text"
      },
      "source": [
        "<a href=\"https://colab.research.google.com/github/ManojGhogare/viplgmdatascience1/blob/main/Untitled1.ipynb\" target=\"_parent\"><img src=\"https://colab.research.google.com/assets/colab-badge.svg\" alt=\"Open In Colab\"/></a>"
      ]
    },
    {
      "cell_type": "code",
      "execution_count": null,
      "metadata": {
        "id": "Mn0_7ZLr4U6Q"
      },
      "outputs": [],
      "source": [
        ""
      ]
    },
    {
      "cell_type": "markdown",
      "source": [
        "TASK 2 : Stock Market Prediction and Forecasting Using Stacked LSTM\n",
        "\n",
        "Performed by : Manojkumar Ghoigare\n",
        "\n",
        "Import the Necessary libraries\n",
        "\n"
      ],
      "metadata": {
        "id": "eBZdtPdw7J18"
      }
    },
    {
      "cell_type": "code",
      "source": [
        "import numpy as np\n",
        "import matplotlib.pyplot as plt\n",
        "import pandas as pd"
      ],
      "metadata": {
        "id": "OI-iq0dN7eGE"
      },
      "execution_count": 1,
      "outputs": []
    },
    {
      "cell_type": "code",
      "source": [
        "url = 'https://raw.githubusercontent.com/mwitiderrick/stockprice/master/NSE-TATAGLOBAL.csv'\n",
        "dataset_train = pd.read_csv(url)\n",
        "training_set = dataset_train.iloc[:,1:2].values"
      ],
      "metadata": {
        "id": "zpDvfqRd7nkD"
      },
      "execution_count": 2,
      "outputs": []
    },
    {
      "cell_type": "code",
      "source": [
        "dataset_train.head()\n"
      ],
      "metadata": {
        "colab": {
          "base_uri": "https://localhost:8080/",
          "height": 206
        },
        "id": "Fe_Qj8wU7zVT",
        "outputId": "f19e21df-d390-4a64-8639-f7200f64fdcb"
      },
      "execution_count": 3,
      "outputs": [
        {
          "output_type": "execute_result",
          "data": {
            "text/html": [
              "\n",
              "  <div id=\"df-bdda29b3-ed18-4a81-b6d5-38a8bba89762\">\n",
              "    <div class=\"colab-df-container\">\n",
              "      <div>\n",
              "<style scoped>\n",
              "    .dataframe tbody tr th:only-of-type {\n",
              "        vertical-align: middle;\n",
              "    }\n",
              "\n",
              "    .dataframe tbody tr th {\n",
              "        vertical-align: top;\n",
              "    }\n",
              "\n",
              "    .dataframe thead th {\n",
              "        text-align: right;\n",
              "    }\n",
              "</style>\n",
              "<table border=\"1\" class=\"dataframe\">\n",
              "  <thead>\n",
              "    <tr style=\"text-align: right;\">\n",
              "      <th></th>\n",
              "      <th>Date</th>\n",
              "      <th>Open</th>\n",
              "      <th>High</th>\n",
              "      <th>Low</th>\n",
              "      <th>Last</th>\n",
              "      <th>Close</th>\n",
              "      <th>Total Trade Quantity</th>\n",
              "      <th>Turnover (Lacs)</th>\n",
              "    </tr>\n",
              "  </thead>\n",
              "  <tbody>\n",
              "    <tr>\n",
              "      <th>0</th>\n",
              "      <td>2018-09-28</td>\n",
              "      <td>234.05</td>\n",
              "      <td>235.95</td>\n",
              "      <td>230.20</td>\n",
              "      <td>233.50</td>\n",
              "      <td>233.75</td>\n",
              "      <td>3069914</td>\n",
              "      <td>7162.35</td>\n",
              "    </tr>\n",
              "    <tr>\n",
              "      <th>1</th>\n",
              "      <td>2018-09-27</td>\n",
              "      <td>234.55</td>\n",
              "      <td>236.80</td>\n",
              "      <td>231.10</td>\n",
              "      <td>233.80</td>\n",
              "      <td>233.25</td>\n",
              "      <td>5082859</td>\n",
              "      <td>11859.95</td>\n",
              "    </tr>\n",
              "    <tr>\n",
              "      <th>2</th>\n",
              "      <td>2018-09-26</td>\n",
              "      <td>240.00</td>\n",
              "      <td>240.00</td>\n",
              "      <td>232.50</td>\n",
              "      <td>235.00</td>\n",
              "      <td>234.25</td>\n",
              "      <td>2240909</td>\n",
              "      <td>5248.60</td>\n",
              "    </tr>\n",
              "    <tr>\n",
              "      <th>3</th>\n",
              "      <td>2018-09-25</td>\n",
              "      <td>233.30</td>\n",
              "      <td>236.75</td>\n",
              "      <td>232.00</td>\n",
              "      <td>236.25</td>\n",
              "      <td>236.10</td>\n",
              "      <td>2349368</td>\n",
              "      <td>5503.90</td>\n",
              "    </tr>\n",
              "    <tr>\n",
              "      <th>4</th>\n",
              "      <td>2018-09-24</td>\n",
              "      <td>233.55</td>\n",
              "      <td>239.20</td>\n",
              "      <td>230.75</td>\n",
              "      <td>234.00</td>\n",
              "      <td>233.30</td>\n",
              "      <td>3423509</td>\n",
              "      <td>7999.55</td>\n",
              "    </tr>\n",
              "  </tbody>\n",
              "</table>\n",
              "</div>\n",
              "      <button class=\"colab-df-convert\" onclick=\"convertToInteractive('df-bdda29b3-ed18-4a81-b6d5-38a8bba89762')\"\n",
              "              title=\"Convert this dataframe to an interactive table.\"\n",
              "              style=\"display:none;\">\n",
              "        \n",
              "  <svg xmlns=\"http://www.w3.org/2000/svg\" height=\"24px\"viewBox=\"0 0 24 24\"\n",
              "       width=\"24px\">\n",
              "    <path d=\"M0 0h24v24H0V0z\" fill=\"none\"/>\n",
              "    <path d=\"M18.56 5.44l.94 2.06.94-2.06 2.06-.94-2.06-.94-.94-2.06-.94 2.06-2.06.94zm-11 1L8.5 8.5l.94-2.06 2.06-.94-2.06-.94L8.5 2.5l-.94 2.06-2.06.94zm10 10l.94 2.06.94-2.06 2.06-.94-2.06-.94-.94-2.06-.94 2.06-2.06.94z\"/><path d=\"M17.41 7.96l-1.37-1.37c-.4-.4-.92-.59-1.43-.59-.52 0-1.04.2-1.43.59L10.3 9.45l-7.72 7.72c-.78.78-.78 2.05 0 2.83L4 21.41c.39.39.9.59 1.41.59.51 0 1.02-.2 1.41-.59l7.78-7.78 2.81-2.81c.8-.78.8-2.07 0-2.86zM5.41 20L4 18.59l7.72-7.72 1.47 1.35L5.41 20z\"/>\n",
              "  </svg>\n",
              "      </button>\n",
              "      \n",
              "  <style>\n",
              "    .colab-df-container {\n",
              "      display:flex;\n",
              "      flex-wrap:wrap;\n",
              "      gap: 12px;\n",
              "    }\n",
              "\n",
              "    .colab-df-convert {\n",
              "      background-color: #E8F0FE;\n",
              "      border: none;\n",
              "      border-radius: 50%;\n",
              "      cursor: pointer;\n",
              "      display: none;\n",
              "      fill: #1967D2;\n",
              "      height: 32px;\n",
              "      padding: 0 0 0 0;\n",
              "      width: 32px;\n",
              "    }\n",
              "\n",
              "    .colab-df-convert:hover {\n",
              "      background-color: #E2EBFA;\n",
              "      box-shadow: 0px 1px 2px rgba(60, 64, 67, 0.3), 0px 1px 3px 1px rgba(60, 64, 67, 0.15);\n",
              "      fill: #174EA6;\n",
              "    }\n",
              "\n",
              "    [theme=dark] .colab-df-convert {\n",
              "      background-color: #3B4455;\n",
              "      fill: #D2E3FC;\n",
              "    }\n",
              "\n",
              "    [theme=dark] .colab-df-convert:hover {\n",
              "      background-color: #434B5C;\n",
              "      box-shadow: 0px 1px 3px 1px rgba(0, 0, 0, 0.15);\n",
              "      filter: drop-shadow(0px 1px 2px rgba(0, 0, 0, 0.3));\n",
              "      fill: #FFFFFF;\n",
              "    }\n",
              "  </style>\n",
              "\n",
              "      <script>\n",
              "        const buttonEl =\n",
              "          document.querySelector('#df-bdda29b3-ed18-4a81-b6d5-38a8bba89762 button.colab-df-convert');\n",
              "        buttonEl.style.display =\n",
              "          google.colab.kernel.accessAllowed ? 'block' : 'none';\n",
              "\n",
              "        async function convertToInteractive(key) {\n",
              "          const element = document.querySelector('#df-bdda29b3-ed18-4a81-b6d5-38a8bba89762');\n",
              "          const dataTable =\n",
              "            await google.colab.kernel.invokeFunction('convertToInteractive',\n",
              "                                                     [key], {});\n",
              "          if (!dataTable) return;\n",
              "\n",
              "          const docLinkHtml = 'Like what you see? Visit the ' +\n",
              "            '<a target=\"_blank\" href=https://colab.research.google.com/notebooks/data_table.ipynb>data table notebook</a>'\n",
              "            + ' to learn more about interactive tables.';\n",
              "          element.innerHTML = '';\n",
              "          dataTable['output_type'] = 'display_data';\n",
              "          await google.colab.output.renderOutput(dataTable, element);\n",
              "          const docLink = document.createElement('div');\n",
              "          docLink.innerHTML = docLinkHtml;\n",
              "          element.appendChild(docLink);\n",
              "        }\n",
              "      </script>\n",
              "    </div>\n",
              "  </div>\n",
              "  "
            ],
            "text/plain": [
              "         Date    Open    High  ...   Close  Total Trade Quantity  Turnover (Lacs)\n",
              "0  2018-09-28  234.05  235.95  ...  233.75               3069914          7162.35\n",
              "1  2018-09-27  234.55  236.80  ...  233.25               5082859         11859.95\n",
              "2  2018-09-26  240.00  240.00  ...  234.25               2240909          5248.60\n",
              "3  2018-09-25  233.30  236.75  ...  236.10               2349368          5503.90\n",
              "4  2018-09-24  233.55  239.20  ...  233.30               3423509          7999.55\n",
              "\n",
              "[5 rows x 8 columns]"
            ]
          },
          "metadata": {},
          "execution_count": 3
        }
      ]
    },
    {
      "cell_type": "code",
      "source": [
        "data_close = dataset_train['Close']"
      ],
      "metadata": {
        "id": "UQDBqkbZ73ir"
      },
      "execution_count": 4,
      "outputs": []
    },
    {
      "cell_type": "code",
      "source": [
        "data_close"
      ],
      "metadata": {
        "colab": {
          "base_uri": "https://localhost:8080/"
        },
        "id": "t8VkCWru7_rN",
        "outputId": "cfd4f70f-e134-4f6d-eb71-641eedb3006e"
      },
      "execution_count": 5,
      "outputs": [
        {
          "output_type": "execute_result",
          "data": {
            "text/plain": [
              "0       233.75\n",
              "1       233.25\n",
              "2       234.25\n",
              "3       236.10\n",
              "4       233.30\n",
              "         ...  \n",
              "2030    118.65\n",
              "2031    117.60\n",
              "2032    120.65\n",
              "2033    120.90\n",
              "2034    121.55\n",
              "Name: Close, Length: 2035, dtype: float64"
            ]
          },
          "metadata": {},
          "execution_count": 5
        }
      ]
    },
    {
      "cell_type": "code",
      "source": [
        "plt.plot(data_close)"
      ],
      "metadata": {
        "colab": {
          "base_uri": "https://localhost:8080/",
          "height": 282
        },
        "id": "DfdTO9LM8D_7",
        "outputId": "f74ebb30-d979-4b74-962e-4efaa37c1088"
      },
      "execution_count": 6,
      "outputs": [
        {
          "output_type": "execute_result",
          "data": {
            "text/plain": [
              "[<matplotlib.lines.Line2D at 0x7facfac12810>]"
            ]
          },
          "metadata": {},
          "execution_count": 6
        },
        {
          "output_type": "display_data",
          "data": {
            "image/png": "[encoded data removed]",
            "text/plain": [
              "<Figure size 432x288 with 1 Axes>"
            ]
          },
          "metadata": {
            "needs_background": "light"
          }
        }
      ]
    },
    {
      "cell_type": "code",
      "source": [
        "from sklearn.preprocessing import MinMaxScaler\n",
        "scaler = MinMaxScaler(feature_range = (0,1))\n",
        "data_close = scaler.fit_transform(np.array(data_close).reshape(-1,1))"
      ],
      "metadata": {
        "id": "Tgc14uTw8JMQ"
      },
      "execution_count": 14,
      "outputs": []
    },
    {
      "cell_type": "code",
      "source": [
        "data_close.shape"
      ],
      "metadata": {
        "colab": {
          "base_uri": "https://localhost:8080/"
        },
        "id": "_P4JJpjk9B_2",
        "outputId": "56fd387f-da83-45ba-a698-2a1d933a2dcd"
      },
      "execution_count": 15,
      "outputs": [
        {
          "output_type": "execute_result",
          "data": {
            "text/plain": [
              "(2035, 1)"
            ]
          },
          "metadata": {},
          "execution_count": 15
        }
      ]
    },
    {
      "cell_type": "code",
      "source": [
        "print(data_close)"
      ],
      "metadata": {
        "colab": {
          "base_uri": "https://localhost:8080/"
        },
        "id": "BLBs8z399CsJ",
        "outputId": "fad1107f-9b50-4f57-fe39-dc0c648b45fb"
      },
      "execution_count": 16,
      "outputs": [
        {
          "output_type": "stream",
          "name": "stdout",
          "text": [
            "[[0.62418301]\n",
            " [0.62214052]\n",
            " [0.62622549]\n",
            " ...\n",
            " [0.1621732 ]\n",
            " [0.16319444]\n",
            " [0.16584967]]\n"
          ]
        }
      ]
    },
    {
      "cell_type": "code",
      "source": [
        "training_size = int(len(data_close)*0.75)\n",
        "test_size = len(data_close) - training_size\n",
        "train_data, test_data = data_close[0:training_size,:], data_close[training_size:len(data_close),:1]\n"
      ],
      "metadata": {
        "id": "YBaLJqJD9H4d"
      },
      "execution_count": 17,
      "outputs": []
    },
    {
      "cell_type": "code",
      "source": [
        "def create_dataset(dataset, time_step = 1):\n",
        "    dataX, dataY = [], []\n",
        "    for i in range(len(dataset)- time_step - 1):\n",
        "        a = dataset[i:(i+time_step), 0]\n",
        "        dataX.append(a)\n",
        "        dataY.append(dataset[i+time_step, 0])\n",
        "    return np.array(dataX), np.array(dataY)"
      ],
      "metadata": {
        "id": "QKwDKNmZ9P2y"
      },
      "execution_count": 18,
      "outputs": []
    },
    {
      "cell_type": "code",
      "source": [
        "time_step = 100\n",
        "x_train, y_train = create_dataset(train_data, time_step)\n",
        "x_test, y_test = create_dataset(test_data, time_step)"
      ],
      "metadata": {
        "id": "-Im5euQl9WH1"
      },
      "execution_count": 19,
      "outputs": []
    },
    {
      "cell_type": "code",
      "source": [
        "#Reshape the input to be [samples , time steps, features] which the requirement of LSTM\n",
        "x_train = x_train.reshape(x_train.shape[0], x_train.shape[1], 1)\n",
        "x_test = x_test.reshape(x_test.shape[0], x_test.shape[1], 1)"
      ],
      "metadata": {
        "id": "Rivbkrsu9bFL"
      },
      "execution_count": 20,
      "outputs": []
    },
    {
      "cell_type": "code",
      "source": [
        "#create the LSTM Model\n",
        "from keras.models import Sequential\n",
        "from keras.layers import LSTM\n",
        "from keras.layers import Dropout\n",
        "from keras.layers import Dense\n",
        "model = Sequential()\n",
        "model.add(LSTM(50,return_sequences = True, input_shape = (100,1)))\n",
        "model.add(LSTM(50,return_sequences = True))\n",
        "model.add(LSTM(50))\n",
        "model.add(Dense(1))\n",
        "model.compile(loss = 'mean_squared_error', optimizer = 'adam')"
      ],
      "metadata": {
        "id": "hFOZ4ygU9fJe"
      },
      "execution_count": 21,
      "outputs": []
    },
    {
      "cell_type": "code",
      "source": [
        "model.summary()"
      ],
      "metadata": {
        "colab": {
          "base_uri": "https://localhost:8080/"
        },
        "id": "YVP7r72a9ikT",
        "outputId": "aae1934d-0a87-4179-87ec-5645f4ab33e7"
      },
      "execution_count": 22,
      "outputs": [
        {
          "output_type": "stream",
          "name": "stdout",
          "text": [
            "Model: \"sequential\"\n",
            "_________________________________________________________________\n",
            " Layer (type)                Output Shape              Param #   \n",
            "=================================================================\n",
            " lstm (LSTM)                 (None, 100, 50)           10400     \n",
            "                                                                 \n",
            " lstm_1 (LSTM)               (None, 100, 50)           20200     \n",
            "                                                                 \n",
            " lstm_2 (LSTM)               (None, 50)                20200     \n",
            "                                                                 \n",
            " dense (Dense)               (None, 1)                 51        \n",
            "                                                                 \n",
            "=================================================================\n",
            "Total params: 50,851\n",
            "Trainable params: 50,851\n",
            "Non-trainable params: 0\n",
            "_________________________________________________________________\n"
          ]
        }
      ]
    },
    {
      "cell_type": "code",
      "source": [
        "model.fit(x_train, y_train, validation_data = (x_test, y_test), epochs = 100, batch_size = 64, verbose = 1)\n"
      ],
      "metadata": {
        "colab": {
          "base_uri": "https://localhost:8080/"
        },
        "id": "MbtYV3C49o5G",
        "outputId": "111a24aa-a638-4048-9cff-6bd1c4e3a3a5"
      },
      "execution_count": 23,
      "outputs": [
        {
          "output_type": "stream",
          "name": "stdout",
          "text": [
            "Epoch 1/100\n",
            "23/23 [==============================] - 11s 220ms/step - loss: 0.0258 - val_loss: 0.0095\n",
            "Epoch 2/100\n",
            "23/23 [==============================] - 4s 167ms/step - loss: 0.0029 - val_loss: 9.5314e-04\n",
            "Epoch 3/100\n",
            "23/23 [==============================] - 4s 163ms/step - loss: 0.0017 - val_loss: 0.0017\n",
            "Epoch 4/100\n",
            "23/23 [==============================] - 4s 162ms/step - loss: 0.0015 - val_loss: 0.0016\n",
            "Epoch 5/100\n",
            "23/23 [==============================] - 4s 172ms/step - loss: 0.0014 - val_loss: 0.0015\n",
            "Epoch 6/100\n",
            "23/23 [==============================] - 5s 219ms/step - loss: 0.0013 - val_loss: 0.0012\n",
            "Epoch 7/100\n",
            "23/23 [==============================] - 4s 182ms/step - loss: 0.0015 - val_loss: 0.0011\n",
            "Epoch 8/100\n",
            "23/23 [==============================] - 4s 164ms/step - loss: 0.0013 - val_loss: 0.0011\n",
            "Epoch 9/100\n",
            "23/23 [==============================] - 4s 164ms/step - loss: 0.0011 - val_loss: 0.0014\n",
            "Epoch 10/100\n",
            "23/23 [==============================] - 4s 162ms/step - loss: 0.0011 - val_loss: 9.9406e-04\n",
            "Epoch 11/100\n",
            "23/23 [==============================] - 4s 165ms/step - loss: 0.0010 - val_loss: 8.6675e-04\n",
            "Epoch 12/100\n",
            "23/23 [==============================] - 4s 166ms/step - loss: 9.3847e-04 - val_loss: 7.2147e-04\n",
            "Epoch 13/100\n",
            "23/23 [==============================] - 4s 162ms/step - loss: 9.7032e-04 - val_loss: 7.5410e-04\n",
            "Epoch 14/100\n",
            "23/23 [==============================] - 4s 168ms/step - loss: 9.5441e-04 - val_loss: 0.0011\n",
            "Epoch 15/100\n",
            "23/23 [==============================] - 4s 162ms/step - loss: 0.0011 - val_loss: 8.7523e-04\n",
            "Epoch 16/100\n",
            "23/23 [==============================] - 4s 166ms/step - loss: 9.2393e-04 - val_loss: 9.4586e-04\n",
            "Epoch 17/100\n",
            "23/23 [==============================] - 4s 163ms/step - loss: 8.4591e-04 - val_loss: 9.6671e-04\n",
            "Epoch 18/100\n",
            "23/23 [==============================] - 4s 165ms/step - loss: 8.0909e-04 - val_loss: 9.2455e-04\n",
            "Epoch 19/100\n",
            "23/23 [==============================] - 4s 168ms/step - loss: 8.9909e-04 - val_loss: 9.8960e-04\n",
            "Epoch 20/100\n",
            "23/23 [==============================] - 4s 165ms/step - loss: 8.9671e-04 - val_loss: 0.0011\n",
            "Epoch 21/100\n",
            "23/23 [==============================] - 4s 162ms/step - loss: 7.5037e-04 - val_loss: 8.0916e-04\n",
            "Epoch 22/100\n",
            "23/23 [==============================] - 4s 164ms/step - loss: 7.1661e-04 - val_loss: 8.2253e-04\n",
            "Epoch 23/100\n",
            "23/23 [==============================] - 4s 163ms/step - loss: 6.9954e-04 - val_loss: 7.5910e-04\n",
            "Epoch 24/100\n",
            "23/23 [==============================] - 4s 165ms/step - loss: 6.9387e-04 - val_loss: 7.5664e-04\n",
            "Epoch 25/100\n",
            "23/23 [==============================] - 4s 164ms/step - loss: 6.5958e-04 - val_loss: 7.4390e-04\n",
            "Epoch 26/100\n",
            "23/23 [==============================] - 4s 186ms/step - loss: 7.0265e-04 - val_loss: 9.9926e-04\n",
            "Epoch 27/100\n",
            "23/23 [==============================] - 4s 163ms/step - loss: 6.8711e-04 - val_loss: 9.6667e-04\n",
            "Epoch 28/100\n",
            "23/23 [==============================] - 4s 166ms/step - loss: 6.2612e-04 - val_loss: 9.3957e-04\n",
            "Epoch 29/100\n",
            "23/23 [==============================] - 4s 166ms/step - loss: 6.4150e-04 - val_loss: 7.6534e-04\n",
            "Epoch 30/100\n",
            "23/23 [==============================] - 4s 177ms/step - loss: 7.0176e-04 - val_loss: 8.6597e-04\n",
            "Epoch 31/100\n",
            "23/23 [==============================] - 4s 164ms/step - loss: 5.9173e-04 - val_loss: 0.0010\n",
            "Epoch 32/100\n",
            "23/23 [==============================] - 4s 164ms/step - loss: 5.8067e-04 - val_loss: 7.6503e-04\n",
            "Epoch 33/100\n",
            "23/23 [==============================] - 4s 168ms/step - loss: 6.2266e-04 - val_loss: 8.6841e-04\n",
            "Epoch 34/100\n",
            "23/23 [==============================] - 4s 164ms/step - loss: 6.0419e-04 - val_loss: 6.9433e-04\n",
            "Epoch 35/100\n",
            "23/23 [==============================] - 4s 163ms/step - loss: 5.5992e-04 - val_loss: 8.6955e-04\n",
            "Epoch 36/100\n",
            "23/23 [==============================] - 4s 166ms/step - loss: 5.6069e-04 - val_loss: 7.1983e-04\n",
            "Epoch 37/100\n",
            "23/23 [==============================] - 6s 266ms/step - loss: 5.5631e-04 - val_loss: 5.9506e-04\n",
            "Epoch 38/100\n",
            "23/23 [==============================] - 5s 218ms/step - loss: 5.8497e-04 - val_loss: 7.1515e-04\n",
            "Epoch 39/100\n",
            "23/23 [==============================] - 4s 167ms/step - loss: 5.2320e-04 - val_loss: 7.3224e-04\n",
            "Epoch 40/100\n",
            "23/23 [==============================] - 4s 167ms/step - loss: 5.5711e-04 - val_loss: 7.0165e-04\n",
            "Epoch 41/100\n",
            "23/23 [==============================] - 4s 164ms/step - loss: 5.0362e-04 - val_loss: 7.2199e-04\n",
            "Epoch 42/100\n",
            "23/23 [==============================] - 4s 167ms/step - loss: 4.9097e-04 - val_loss: 6.3161e-04\n",
            "Epoch 43/100\n",
            "23/23 [==============================] - 4s 168ms/step - loss: 5.2906e-04 - val_loss: 8.9184e-04\n",
            "Epoch 44/100\n",
            "23/23 [==============================] - 4s 162ms/step - loss: 4.9236e-04 - val_loss: 5.9481e-04\n",
            "Epoch 45/100\n",
            "23/23 [==============================] - 4s 163ms/step - loss: 4.5320e-04 - val_loss: 5.8735e-04\n",
            "Epoch 46/100\n",
            "23/23 [==============================] - 4s 165ms/step - loss: 4.4992e-04 - val_loss: 5.0196e-04\n",
            "Epoch 47/100\n",
            "23/23 [==============================] - 4s 164ms/step - loss: 4.2819e-04 - val_loss: 5.6756e-04\n",
            "Epoch 48/100\n",
            "23/23 [==============================] - 4s 166ms/step - loss: 4.3028e-04 - val_loss: 4.5253e-04\n",
            "Epoch 49/100\n",
            "23/23 [==============================] - 4s 164ms/step - loss: 4.2140e-04 - val_loss: 4.7604e-04\n",
            "Epoch 50/100\n",
            "23/23 [==============================] - 4s 164ms/step - loss: 4.3836e-04 - val_loss: 4.0466e-04\n",
            "Epoch 51/100\n",
            "23/23 [==============================] - 4s 166ms/step - loss: 3.8995e-04 - val_loss: 4.0644e-04\n",
            "Epoch 52/100\n",
            "23/23 [==============================] - 4s 171ms/step - loss: 3.8848e-04 - val_loss: 5.2667e-04\n",
            "Epoch 53/100\n",
            "23/23 [==============================] - 4s 166ms/step - loss: 3.9892e-04 - val_loss: 6.1468e-04\n",
            "Epoch 54/100\n",
            "23/23 [==============================] - 4s 162ms/step - loss: 4.2422e-04 - val_loss: 3.7857e-04\n",
            "Epoch 55/100\n",
            "23/23 [==============================] - 4s 162ms/step - loss: 4.7594e-04 - val_loss: 4.6494e-04\n",
            "Epoch 56/100\n",
            "23/23 [==============================] - 4s 163ms/step - loss: 3.7854e-04 - val_loss: 4.8434e-04\n",
            "Epoch 57/100\n",
            "23/23 [==============================] - 4s 163ms/step - loss: 4.6494e-04 - val_loss: 9.2218e-04\n",
            "Epoch 58/100\n",
            "23/23 [==============================] - 4s 163ms/step - loss: 5.8653e-04 - val_loss: 6.7768e-04\n",
            "Epoch 59/100\n",
            "23/23 [==============================] - 4s 165ms/step - loss: 3.6039e-04 - val_loss: 4.8920e-04\n",
            "Epoch 60/100\n",
            "23/23 [==============================] - 4s 162ms/step - loss: 3.3648e-04 - val_loss: 5.3591e-04\n",
            "Epoch 61/100\n",
            "23/23 [==============================] - 4s 163ms/step - loss: 3.2989e-04 - val_loss: 4.7182e-04\n",
            "Epoch 62/100\n",
            "23/23 [==============================] - 4s 164ms/step - loss: 3.2055e-04 - val_loss: 3.7355e-04\n",
            "Epoch 63/100\n",
            "23/23 [==============================] - 4s 162ms/step - loss: 3.0315e-04 - val_loss: 3.7963e-04\n",
            "Epoch 64/100\n",
            "23/23 [==============================] - 4s 169ms/step - loss: 3.1163e-04 - val_loss: 3.2113e-04\n",
            "Epoch 65/100\n",
            "23/23 [==============================] - 4s 167ms/step - loss: 3.5710e-04 - val_loss: 3.3113e-04\n",
            "Epoch 66/100\n",
            "23/23 [==============================] - 4s 163ms/step - loss: 3.4342e-04 - val_loss: 3.1256e-04\n",
            "Epoch 67/100\n",
            "23/23 [==============================] - 4s 171ms/step - loss: 3.1554e-04 - val_loss: 3.8969e-04\n",
            "Epoch 68/100\n",
            "23/23 [==============================] - 4s 165ms/step - loss: 2.9417e-04 - val_loss: 3.2066e-04\n",
            "Epoch 69/100\n",
            "23/23 [==============================] - 4s 167ms/step - loss: 2.7890e-04 - val_loss: 3.6540e-04\n",
            "Epoch 70/100\n",
            "23/23 [==============================] - 4s 164ms/step - loss: 3.0052e-04 - val_loss: 2.6269e-04\n",
            "Epoch 71/100\n",
            "23/23 [==============================] - 4s 164ms/step - loss: 2.9099e-04 - val_loss: 4.8220e-04\n",
            "Epoch 72/100\n",
            "23/23 [==============================] - 4s 170ms/step - loss: 2.8744e-04 - val_loss: 4.2845e-04\n",
            "Epoch 73/100\n",
            "23/23 [==============================] - 4s 169ms/step - loss: 2.5817e-04 - val_loss: 4.3026e-04\n",
            "Epoch 74/100\n",
            "23/23 [==============================] - 4s 167ms/step - loss: 3.3382e-04 - val_loss: 4.1769e-04\n",
            "Epoch 75/100\n",
            "23/23 [==============================] - 4s 166ms/step - loss: 2.5699e-04 - val_loss: 3.2812e-04\n",
            "Epoch 76/100\n",
            "23/23 [==============================] - 4s 163ms/step - loss: 2.5192e-04 - val_loss: 2.9628e-04\n",
            "Epoch 77/100\n",
            "23/23 [==============================] - 4s 164ms/step - loss: 3.0177e-04 - val_loss: 3.6578e-04\n",
            "Epoch 78/100\n",
            "23/23 [==============================] - 4s 169ms/step - loss: 2.5138e-04 - val_loss: 3.2304e-04\n",
            "Epoch 79/100\n",
            "23/23 [==============================] - 4s 167ms/step - loss: 2.4804e-04 - val_loss: 2.6456e-04\n",
            "Epoch 80/100\n",
            "23/23 [==============================] - 4s 167ms/step - loss: 2.4847e-04 - val_loss: 2.5100e-04\n",
            "Epoch 81/100\n",
            "23/23 [==============================] - 4s 164ms/step - loss: 2.3585e-04 - val_loss: 3.4992e-04\n",
            "Epoch 82/100\n",
            "23/23 [==============================] - 4s 165ms/step - loss: 2.3719e-04 - val_loss: 3.0433e-04\n",
            "Epoch 83/100\n",
            "23/23 [==============================] - 4s 169ms/step - loss: 2.4889e-04 - val_loss: 2.5625e-04\n",
            "Epoch 84/100\n",
            "23/23 [==============================] - 4s 171ms/step - loss: 2.3585e-04 - val_loss: 3.1042e-04\n",
            "Epoch 85/100\n",
            "23/23 [==============================] - 4s 167ms/step - loss: 2.2399e-04 - val_loss: 2.0456e-04\n",
            "Epoch 86/100\n",
            "23/23 [==============================] - 4s 171ms/step - loss: 2.6673e-04 - val_loss: 2.6702e-04\n",
            "Epoch 87/100\n",
            "23/23 [==============================] - 4s 166ms/step - loss: 2.2846e-04 - val_loss: 2.3751e-04\n",
            "Epoch 88/100\n",
            "23/23 [==============================] - 4s 168ms/step - loss: 2.2359e-04 - val_loss: 2.3715e-04\n",
            "Epoch 89/100\n",
            "23/23 [==============================] - 4s 167ms/step - loss: 2.4798e-04 - val_loss: 2.5903e-04\n",
            "Epoch 90/100\n",
            "23/23 [==============================] - 4s 167ms/step - loss: 3.0949e-04 - val_loss: 1.8140e-04\n",
            "Epoch 91/100\n",
            "23/23 [==============================] - 4s 165ms/step - loss: 2.7648e-04 - val_loss: 3.7627e-04\n",
            "Epoch 92/100\n",
            "23/23 [==============================] - 4s 167ms/step - loss: 2.6223e-04 - val_loss: 2.2532e-04\n",
            "Epoch 93/100\n",
            "23/23 [==============================] - 4s 165ms/step - loss: 2.3425e-04 - val_loss: 2.4224e-04\n",
            "Epoch 94/100\n",
            "23/23 [==============================] - 4s 168ms/step - loss: 2.1223e-04 - val_loss: 2.2653e-04\n",
            "Epoch 95/100\n",
            "23/23 [==============================] - 4s 169ms/step - loss: 2.0928e-04 - val_loss: 2.3712e-04\n",
            "Epoch 96/100\n",
            "23/23 [==============================] - 4s 167ms/step - loss: 2.1675e-04 - val_loss: 2.7018e-04\n",
            "Epoch 97/100\n",
            "23/23 [==============================] - 4s 166ms/step - loss: 2.2168e-04 - val_loss: 2.0363e-04\n",
            "Epoch 98/100\n",
            "23/23 [==============================] - 4s 170ms/step - loss: 2.0728e-04 - val_loss: 2.0881e-04\n",
            "Epoch 99/100\n",
            "23/23 [==============================] - 4s 168ms/step - loss: 2.2838e-04 - val_loss: 2.2564e-04\n",
            "Epoch 100/100\n",
            "23/23 [==============================] - 4s 169ms/step - loss: 2.2647e-04 - val_loss: 2.0259e-04\n"
          ]
        },
        {
          "output_type": "execute_result",
          "data": {
            "text/plain": [
              "<keras.callbacks.History at 0x7fac81e6bb50>"
            ]
          },
          "metadata": {},
          "execution_count": 23
        }
      ]
    },
    {
      "cell_type": "code",
      "source": [
        "#lets predict and check performance matrices\n",
        "train_predict = model.predict(x_train)\n",
        "test_predict = model.predict(x_test)"
      ],
      "metadata": {
        "id": "5ivU_vCn9xu9"
      },
      "execution_count": 24,
      "outputs": []
    },
    {
      "cell_type": "code",
      "source": [
        "#transform back to original form\n",
        "train_predict = scaler.inverse_transform(train_predict)\n",
        "test_predict = scaler.inverse_transform(test_predict)"
      ],
      "metadata": {
        "id": "STuVZFTF95Ss"
      },
      "execution_count": 25,
      "outputs": []
    },
    {
      "cell_type": "code",
      "source": [
        "#calculate RMSE performance matrices\n",
        "import math\n",
        "from sklearn.metrics import mean_squared_error\n",
        "math.sqrt(mean_squared_error(y_train, train_predict))"
      ],
      "metadata": {
        "colab": {
          "base_uri": "https://localhost:8080/"
        },
        "id": "PZglvkPKHXXV",
        "outputId": "1fb09175-38b9-4607-ab87-f13fedec7e02"
      },
      "execution_count": 26,
      "outputs": [
        {
          "output_type": "execute_result",
          "data": {
            "text/plain": [
              "0.014597655499221871"
            ]
          },
          "metadata": {},
          "execution_count": 26
        }
      ]
    },
    {
      "cell_type": "code",
      "source": [
        "#test data RMSE\n",
        "math.sqrt(mean_squared_error(y_test, test_predict))"
      ],
      "metadata": {
        "colab": {
          "base_uri": "https://localhost:8080/"
        },
        "id": "Nit-jFKLHd4u",
        "outputId": "a8f0c67c-4414-4c90-a1c5-d035404e6a89"
      },
      "execution_count": 27,
      "outputs": [
        {
          "output_type": "execute_result",
          "data": {
            "text/plain": [
              "0.014233327650601105"
            ]
          },
          "metadata": {},
          "execution_count": 27
        }
      ]
    },
    {
      "cell_type": "code",
      "source": [
        "#plotting\n",
        "\n",
        "#Shift train prediction for plotting\n",
        "look_back = 100\n",
        "trainPredictPlot = np.empty_like(data_close)\n",
        "trainPredictPlot[:,:] = np.nan\n",
        "trainPredictPlot[look_back:len(train_predict) + look_back, :]= train_predict\n",
        "\n",
        "#Shift train prediction for plotting\n",
        "testPredictPlot = np.empty_like(data_close)\n",
        "testPredictPlot[:,:] = np.nan\n",
        "testPredictPlot[len(train_predict) + (look_back * 2) + 1:len (data_close) - 1, :]=test_predict\n",
        "\n",
        "#Plot baseline and predictions\n",
        "plt.plot(scaler.inverse_transform(data_close))\n",
        "plt.plot(trainPredictPlot)\n",
        "plt.plot(testPredictPlot)\n",
        "plt.show()"
      ],
      "metadata": {
        "colab": {
          "base_uri": "https://localhost:8080/",
          "height": 265
        },
        "id": "M_JdexwFHkkN",
        "outputId": "f689a430-819d-4883-e6ec-ea6487056cf0"
      },
      "execution_count": 28,
      "outputs": [
        {
          "output_type": "display_data",
          "data": {
            "image/png": "[encoded data removed]",
            "text/plain": [
              "<Figure size 432x288 with 1 Axes>"
            ]
          },
          "metadata": {
            "needs_background": "light"
          }
        }
      ]
    },
    {
      "cell_type": "code",
      "source": [
        "len(test_data), x_test.shape"
      ],
      "metadata": {
        "colab": {
          "base_uri": "https://localhost:8080/"
        },
        "id": "h4ahYyL6HrCy",
        "outputId": "601cafd4-9a4a-44bf-b1e7-69643226c80b"
      },
      "execution_count": 29,
      "outputs": [
        {
          "output_type": "execute_result",
          "data": {
            "text/plain": [
              "(509, (408, 100, 1))"
            ]
          },
          "metadata": {},
          "execution_count": 29
        }
      ]
    },
    {
      "cell_type": "code",
      "source": [
        "x_input = test_data[409:].reshape(1,-1)\n",
        "x_input.shape"
      ],
      "metadata": {
        "colab": {
          "base_uri": "https://localhost:8080/"
        },
        "id": "cOjjotHTHw7D",
        "outputId": "dd29f8cf-f4a3-4451-d02c-755b6724d0d9"
      },
      "execution_count": 30,
      "outputs": [
        {
          "output_type": "execute_result",
          "data": {
            "text/plain": [
              "(1, 100)"
            ]
          },
          "metadata": {},
          "execution_count": 30
        }
      ]
    },
    {
      "cell_type": "code",
      "source": [
        "temp_input = list (x_input)\n",
        "temp_input = temp_input[0].tolist()"
      ],
      "metadata": {
        "id": "MHsR_OkEH39k"
      },
      "execution_count": 31,
      "outputs": []
    },
    {
      "cell_type": "code",
      "source": [
        "first_output =[]\n",
        "n_steps = 100\n",
        "nextNumberOfDays = 30\n",
        "i = 0\n",
        "\n",
        "while (i<nextNumberOfDays):\n",
        "\n",
        "  if(len(temp_input)>100):\n",
        "    x_input = np.array(temp_input[1:])\n",
        "    print(\"{}day input{}\".format(i, x_input))\n",
        "    x_input = x_input.reshape(1,-1)\n",
        "    x_input = x_input.reshape((1, n_steps, 1))\n",
        "    yhat = model.predict(x_input, verbose = 0)\n",
        "    print(\"{} day output {}\".format(i,yhat))\n",
        "    temp_input.extend(yhat[0].tolist())\n",
        "    temp_input = temp_input[1:]\n",
        "    first_output.extend(yhat.tolist())\n",
        "    i=i+1\n",
        "  else:\n",
        "    x_input = x_input.reshape((1, n_steps, 1))\n",
        "    yhat = model.predict(x_input, verbose = 0)\n",
        "    print(yhat[0])\n",
        "    temp_input.extend(yhat[0].tolist())\n",
        "    print(len(temp_input))\n",
        "    first_output.extend(yhat.tolist())\n",
        "    i = i + 1\n",
        "\n",
        "print(first_output)"
      ],
      "metadata": {
        "colab": {
          "base_uri": "https://localhost:8080/"
        },
        "id": "jRADpaYdH8Rd",
        "outputId": "ecb37964-4aee-420b-9d1f-5df899e33797"
      },
      "execution_count": 32,
      "outputs": [
        {
          "output_type": "stream",
          "name": "stdout",
          "text": [
            "[0.16757624]\n",
            "101\n",
            "1day input[0.13848039 0.14011438 0.13888889 0.13541667 0.14011438 0.1380719\n",
            " 0.13071895 0.13071895 0.12867647 0.11846405 0.14644608 0.14808007\n",
            " 0.15910948 0.15992647 0.15788399 0.16441993 0.17892157 0.17933007\n",
            " 0.19260621 0.20812908 0.18974673 0.18055556 0.18239379 0.17708333\n",
            " 0.17810458 0.18055556 0.17810458 0.17851307 0.19607843 0.18913399\n",
            " 0.18954248 0.19403595 0.19444444 0.20200163 0.19771242 0.19934641\n",
            " 0.19873366 0.1997549  0.2128268  0.21568627 0.20445261 0.21772876\n",
            " 0.21098856 0.21425654 0.19750817 0.18811275 0.17851307 0.17381536\n",
            " 0.16033497 0.16564542 0.17116013 0.17422386 0.18035131 0.17401961\n",
            " 0.16278595 0.16973039 0.17810458 0.17034314 0.16830065 0.17279412\n",
            " 0.17544935 0.18382353 0.19138072 0.18913399 0.19097222 0.17238562\n",
            " 0.16830065 0.1693219  0.17177288 0.16156046 0.14971405 0.1503268\n",
            " 0.15196078 0.14726307 0.14501634 0.14603758 0.12479575 0.13112745\n",
            " 0.11397059 0.1190768  0.12377451 0.13562092 0.12908497 0.13459967\n",
            " 0.12806373 0.13031046 0.12724673 0.13521242 0.14522059 0.15257353\n",
            " 0.14848856 0.14338235 0.14562908 0.15236928 0.15400327 0.14971405\n",
            " 0.1621732  0.16319444 0.16584967 0.16757624]\n",
            "1 day output [[0.17012484]]\n",
            "2day input[0.14011438 0.13888889 0.13541667 0.14011438 0.1380719  0.13071895\n",
            " 0.13071895 0.12867647 0.11846405 0.14644608 0.14808007 0.15910948\n",
            " 0.15992647 0.15788399 0.16441993 0.17892157 0.17933007 0.19260621\n",
            " 0.20812908 0.18974673 0.18055556 0.18239379 0.17708333 0.17810458\n",
            " 0.18055556 0.17810458 0.17851307 0.19607843 0.18913399 0.18954248\n",
            " 0.19403595 0.19444444 0.20200163 0.19771242 0.19934641 0.19873366\n",
            " 0.1997549  0.2128268  0.21568627 0.20445261 0.21772876 0.21098856\n",
            " 0.21425654 0.19750817 0.18811275 0.17851307 0.17381536 0.16033497\n",
            " 0.16564542 0.17116013 0.17422386 0.18035131 0.17401961 0.16278595\n",
            " 0.16973039 0.17810458 0.17034314 0.16830065 0.17279412 0.17544935\n",
            " 0.18382353 0.19138072 0.18913399 0.19097222 0.17238562 0.16830065\n",
            " 0.1693219  0.17177288 0.16156046 0.14971405 0.1503268  0.15196078\n",
            " 0.14726307 0.14501634 0.14603758 0.12479575 0.13112745 0.11397059\n",
            " 0.1190768  0.12377451 0.13562092 0.12908497 0.13459967 0.12806373\n",
            " 0.13031046 0.12724673 0.13521242 0.14522059 0.15257353 0.14848856\n",
            " 0.14338235 0.14562908 0.15236928 0.15400327 0.14971405 0.1621732\n",
            " 0.16319444 0.16584967 0.16757624 0.17012484]\n",
            "2 day output [[0.17211431]]\n",
            "3day input[0.13888889 0.13541667 0.14011438 0.1380719  0.13071895 0.13071895\n",
            " 0.12867647 0.11846405 0.14644608 0.14808007 0.15910948 0.15992647\n",
            " 0.15788399 0.16441993 0.17892157 0.17933007 0.19260621 0.20812908\n",
            " 0.18974673 0.18055556 0.18239379 0.17708333 0.17810458 0.18055556\n",
            " 0.17810458 0.17851307 0.19607843 0.18913399 0.18954248 0.19403595\n",
            " 0.19444444 0.20200163 0.19771242 0.19934641 0.19873366 0.1997549\n",
            " 0.2128268  0.21568627 0.20445261 0.21772876 0.21098856 0.21425654\n",
            " 0.19750817 0.18811275 0.17851307 0.17381536 0.16033497 0.16564542\n",
            " 0.17116013 0.17422386 0.18035131 0.17401961 0.16278595 0.16973039\n",
            " 0.17810458 0.17034314 0.16830065 0.17279412 0.17544935 0.18382353\n",
            " 0.19138072 0.18913399 0.19097222 0.17238562 0.16830065 0.1693219\n",
            " 0.17177288 0.16156046 0.14971405 0.1503268  0.15196078 0.14726307\n",
            " 0.14501634 0.14603758 0.12479575 0.13112745 0.11397059 0.1190768\n",
            " 0.12377451 0.13562092 0.12908497 0.13459967 0.12806373 0.13031046\n",
            " 0.12724673 0.13521242 0.14522059 0.15257353 0.14848856 0.14338235\n",
            " 0.14562908 0.15236928 0.15400327 0.14971405 0.1621732  0.16319444\n",
            " 0.16584967 0.16757624 0.17012484 0.17211431]\n",
            "3 day output [[0.17386493]]\n",
            "4day input[0.13541667 0.14011438 0.1380719  0.13071895 0.13071895 0.12867647\n",
            " 0.11846405 0.14644608 0.14808007 0.15910948 0.15992647 0.15788399\n",
            " 0.16441993 0.17892157 0.17933007 0.19260621 0.20812908 0.18974673\n",
            " 0.18055556 0.18239379 0.17708333 0.17810458 0.18055556 0.17810458\n",
            " 0.17851307 0.19607843 0.18913399 0.18954248 0.19403595 0.19444444\n",
            " 0.20200163 0.19771242 0.19934641 0.19873366 0.1997549  0.2128268\n",
            " 0.21568627 0.20445261 0.21772876 0.21098856 0.21425654 0.19750817\n",
            " 0.18811275 0.17851307 0.17381536 0.16033497 0.16564542 0.17116013\n",
            " 0.17422386 0.18035131 0.17401961 0.16278595 0.16973039 0.17810458\n",
            " 0.17034314 0.16830065 0.17279412 0.17544935 0.18382353 0.19138072\n",
            " 0.18913399 0.19097222 0.17238562 0.16830065 0.1693219  0.17177288\n",
            " 0.16156046 0.14971405 0.1503268  0.15196078 0.14726307 0.14501634\n",
            " 0.14603758 0.12479575 0.13112745 0.11397059 0.1190768  0.12377451\n",
            " 0.13562092 0.12908497 0.13459967 0.12806373 0.13031046 0.12724673\n",
            " 0.13521242 0.14522059 0.15257353 0.14848856 0.14338235 0.14562908\n",
            " 0.15236928 0.15400327 0.14971405 0.1621732  0.16319444 0.16584967\n",
            " 0.16757624 0.17012484 0.17211431 0.17386493]\n",
            "4 day output [[0.17548561]]\n",
            "5day input[0.14011438 0.1380719  0.13071895 0.13071895 0.12867647 0.11846405\n",
            " 0.14644608 0.14808007 0.15910948 0.15992647 0.15788399 0.16441993\n",
            " 0.17892157 0.17933007 0.19260621 0.20812908 0.18974673 0.18055556\n",
            " 0.18239379 0.17708333 0.17810458 0.18055556 0.17810458 0.17851307\n",
            " 0.19607843 0.18913399 0.18954248 0.19403595 0.19444444 0.20200163\n",
            " 0.19771242 0.19934641 0.19873366 0.1997549  0.2128268  0.21568627\n",
            " 0.20445261 0.21772876 0.21098856 0.21425654 0.19750817 0.18811275\n",
            " 0.17851307 0.17381536 0.16033497 0.16564542 0.17116013 0.17422386\n",
            " 0.18035131 0.17401961 0.16278595 0.16973039 0.17810458 0.17034314\n",
            " 0.16830065 0.17279412 0.17544935 0.18382353 0.19138072 0.18913399\n",
            " 0.19097222 0.17238562 0.16830065 0.1693219  0.17177288 0.16156046\n",
            " 0.14971405 0.1503268  0.15196078 0.14726307 0.14501634 0.14603758\n",
            " 0.12479575 0.13112745 0.11397059 0.1190768  0.12377451 0.13562092\n",
            " 0.12908497 0.13459967 0.12806373 0.13031046 0.12724673 0.13521242\n",
            " 0.14522059 0.15257353 0.14848856 0.14338235 0.14562908 0.15236928\n",
            " 0.15400327 0.14971405 0.1621732  0.16319444 0.16584967 0.16757624\n",
            " 0.17012484 0.17211431 0.17386493 0.17548561]\n",
            "5 day output [[0.17702511]]\n",
            "6day input[0.1380719  0.13071895 0.13071895 0.12867647 0.11846405 0.14644608\n",
            " 0.14808007 0.15910948 0.15992647 0.15788399 0.16441993 0.17892157\n",
            " 0.17933007 0.19260621 0.20812908 0.18974673 0.18055556 0.18239379\n",
            " 0.17708333 0.17810458 0.18055556 0.17810458 0.17851307 0.19607843\n",
            " 0.18913399 0.18954248 0.19403595 0.19444444 0.20200163 0.19771242\n",
            " 0.19934641 0.19873366 0.1997549  0.2128268  0.21568627 0.20445261\n",
            " 0.21772876 0.21098856 0.21425654 0.19750817 0.18811275 0.17851307\n",
            " 0.17381536 0.16033497 0.16564542 0.17116013 0.17422386 0.18035131\n",
            " 0.17401961 0.16278595 0.16973039 0.17810458 0.17034314 0.16830065\n",
            " 0.17279412 0.17544935 0.18382353 0.19138072 0.18913399 0.19097222\n",
            " 0.17238562 0.16830065 0.1693219  0.17177288 0.16156046 0.14971405\n",
            " 0.1503268  0.15196078 0.14726307 0.14501634 0.14603758 0.12479575\n",
            " 0.13112745 0.11397059 0.1190768  0.12377451 0.13562092 0.12908497\n",
            " 0.13459967 0.12806373 0.13031046 0.12724673 0.13521242 0.14522059\n",
            " 0.15257353 0.14848856 0.14338235 0.14562908 0.15236928 0.15400327\n",
            " 0.14971405 0.1621732  0.16319444 0.16584967 0.16757624 0.17012484\n",
            " 0.17211431 0.17386493 0.17548561 0.17702511]\n",
            "6 day output [[0.17851578]]\n",
            "7day input[0.13071895 0.13071895 0.12867647 0.11846405 0.14644608 0.14808007\n",
            " 0.15910948 0.15992647 0.15788399 0.16441993 0.17892157 0.17933007\n",
            " 0.19260621 0.20812908 0.18974673 0.18055556 0.18239379 0.17708333\n",
            " 0.17810458 0.18055556 0.17810458 0.17851307 0.19607843 0.18913399\n",
            " 0.18954248 0.19403595 0.19444444 0.20200163 0.19771242 0.19934641\n",
            " 0.19873366 0.1997549  0.2128268  0.21568627 0.20445261 0.21772876\n",
            " 0.21098856 0.21425654 0.19750817 0.18811275 0.17851307 0.17381536\n",
            " 0.16033497 0.16564542 0.17116013 0.17422386 0.18035131 0.17401961\n",
            " 0.16278595 0.16973039 0.17810458 0.17034314 0.16830065 0.17279412\n",
            " 0.17544935 0.18382353 0.19138072 0.18913399 0.19097222 0.17238562\n",
            " 0.16830065 0.1693219  0.17177288 0.16156046 0.14971405 0.1503268\n",
            " 0.15196078 0.14726307 0.14501634 0.14603758 0.12479575 0.13112745\n",
            " 0.11397059 0.1190768  0.12377451 0.13562092 0.12908497 0.13459967\n",
            " 0.12806373 0.13031046 0.12724673 0.13521242 0.14522059 0.15257353\n",
            " 0.14848856 0.14338235 0.14562908 0.15236928 0.15400327 0.14971405\n",
            " 0.1621732  0.16319444 0.16584967 0.16757624 0.17012484 0.17211431\n",
            " 0.17386493 0.17548561 0.17702511 0.17851578]\n",
            "7 day output [[0.1799788]]\n",
            "8day input[0.13071895 0.12867647 0.11846405 0.14644608 0.14808007 0.15910948\n",
            " 0.15992647 0.15788399 0.16441993 0.17892157 0.17933007 0.19260621\n",
            " 0.20812908 0.18974673 0.18055556 0.18239379 0.17708333 0.17810458\n",
            " 0.18055556 0.17810458 0.17851307 0.19607843 0.18913399 0.18954248\n",
            " 0.19403595 0.19444444 0.20200163 0.19771242 0.19934641 0.19873366\n",
            " 0.1997549  0.2128268  0.21568627 0.20445261 0.21772876 0.21098856\n",
            " 0.21425654 0.19750817 0.18811275 0.17851307 0.17381536 0.16033497\n",
            " 0.16564542 0.17116013 0.17422386 0.18035131 0.17401961 0.16278595\n",
            " 0.16973039 0.17810458 0.17034314 0.16830065 0.17279412 0.17544935\n",
            " 0.18382353 0.19138072 0.18913399 0.19097222 0.17238562 0.16830065\n",
            " 0.1693219  0.17177288 0.16156046 0.14971405 0.1503268  0.15196078\n",
            " 0.14726307 0.14501634 0.14603758 0.12479575 0.13112745 0.11397059\n",
            " 0.1190768  0.12377451 0.13562092 0.12908497 0.13459967 0.12806373\n",
            " 0.13031046 0.12724673 0.13521242 0.14522059 0.15257353 0.14848856\n",
            " 0.14338235 0.14562908 0.15236928 0.15400327 0.14971405 0.1621732\n",
            " 0.16319444 0.16584967 0.16757624 0.17012484 0.17211431 0.17386493\n",
            " 0.17548561 0.17702511 0.17851578 0.1799788 ]\n",
            "8 day output [[0.18142527]]\n",
            "9day input[0.12867647 0.11846405 0.14644608 0.14808007 0.15910948 0.15992647\n",
            " 0.15788399 0.16441993 0.17892157 0.17933007 0.19260621 0.20812908\n",
            " 0.18974673 0.18055556 0.18239379 0.17708333 0.17810458 0.18055556\n",
            " 0.17810458 0.17851307 0.19607843 0.18913399 0.18954248 0.19403595\n",
            " 0.19444444 0.20200163 0.19771242 0.19934641 0.19873366 0.1997549\n",
            " 0.2128268  0.21568627 0.20445261 0.21772876 0.21098856 0.21425654\n",
            " 0.19750817 0.18811275 0.17851307 0.17381536 0.16033497 0.16564542\n",
            " 0.17116013 0.17422386 0.18035131 0.17401961 0.16278595 0.16973039\n",
            " 0.17810458 0.17034314 0.16830065 0.17279412 0.17544935 0.18382353\n",
            " 0.19138072 0.18913399 0.19097222 0.17238562 0.16830065 0.1693219\n",
            " 0.17177288 0.16156046 0.14971405 0.1503268  0.15196078 0.14726307\n",
            " 0.14501634 0.14603758 0.12479575 0.13112745 0.11397059 0.1190768\n",
            " 0.12377451 0.13562092 0.12908497 0.13459967 0.12806373 0.13031046\n",
            " 0.12724673 0.13521242 0.14522059 0.15257353 0.14848856 0.14338235\n",
            " 0.14562908 0.15236928 0.15400327 0.14971405 0.1621732  0.16319444\n",
            " 0.16584967 0.16757624 0.17012484 0.17211431 0.17386493 0.17548561\n",
            " 0.17702511 0.17851578 0.1799788  0.18142527]\n",
            "9 day output [[0.18285902]]\n",
            "10day input[0.11846405 0.14644608 0.14808007 0.15910948 0.15992647 0.15788399\n",
            " 0.16441993 0.17892157 0.17933007 0.19260621 0.20812908 0.18974673\n",
            " 0.18055556 0.18239379 0.17708333 0.17810458 0.18055556 0.17810458\n",
            " 0.17851307 0.19607843 0.18913399 0.18954248 0.19403595 0.19444444\n",
            " 0.20200163 0.19771242 0.19934641 0.19873366 0.1997549  0.2128268\n",
            " 0.21568627 0.20445261 0.21772876 0.21098856 0.21425654 0.19750817\n",
            " 0.18811275 0.17851307 0.17381536 0.16033497 0.16564542 0.17116013\n",
            " 0.17422386 0.18035131 0.17401961 0.16278595 0.16973039 0.17810458\n",
            " 0.17034314 0.16830065 0.17279412 0.17544935 0.18382353 0.19138072\n",
            " 0.18913399 0.19097222 0.17238562 0.16830065 0.1693219  0.17177288\n",
            " 0.16156046 0.14971405 0.1503268  0.15196078 0.14726307 0.14501634\n",
            " 0.14603758 0.12479575 0.13112745 0.11397059 0.1190768  0.12377451\n",
            " 0.13562092 0.12908497 0.13459967 0.12806373 0.13031046 0.12724673\n",
            " 0.13521242 0.14522059 0.15257353 0.14848856 0.14338235 0.14562908\n",
            " 0.15236928 0.15400327 0.14971405 0.1621732  0.16319444 0.16584967\n",
            " 0.16757624 0.17012484 0.17211431 0.17386493 0.17548561 0.17702511\n",
            " 0.17851578 0.1799788  0.18142527 0.18285902]\n",
            "10 day output [[0.18427928]]\n",
            "11day input[0.14644608 0.14808007 0.15910948 0.15992647 0.15788399 0.16441993\n",
            " 0.17892157 0.17933007 0.19260621 0.20812908 0.18974673 0.18055556\n",
            " 0.18239379 0.17708333 0.17810458 0.18055556 0.17810458 0.17851307\n",
            " 0.19607843 0.18913399 0.18954248 0.19403595 0.19444444 0.20200163\n",
            " 0.19771242 0.19934641 0.19873366 0.1997549  0.2128268  0.21568627\n",
            " 0.20445261 0.21772876 0.21098856 0.21425654 0.19750817 0.18811275\n",
            " 0.17851307 0.17381536 0.16033497 0.16564542 0.17116013 0.17422386\n",
            " 0.18035131 0.17401961 0.16278595 0.16973039 0.17810458 0.17034314\n",
            " 0.16830065 0.17279412 0.17544935 0.18382353 0.19138072 0.18913399\n",
            " 0.19097222 0.17238562 0.16830065 0.1693219  0.17177288 0.16156046\n",
            " 0.14971405 0.1503268  0.15196078 0.14726307 0.14501634 0.14603758\n",
            " 0.12479575 0.13112745 0.11397059 0.1190768  0.12377451 0.13562092\n",
            " 0.12908497 0.13459967 0.12806373 0.13031046 0.12724673 0.13521242\n",
            " 0.14522059 0.15257353 0.14848856 0.14338235 0.14562908 0.15236928\n",
            " 0.15400327 0.14971405 0.1621732  0.16319444 0.16584967 0.16757624\n",
            " 0.17012484 0.17211431 0.17386493 0.17548561 0.17702511 0.17851578\n",
            " 0.1799788  0.18142527 0.18285902 0.18427928]\n",
            "11 day output [[0.1856834]]\n",
            "12day input[0.14808007 0.15910948 0.15992647 0.15788399 0.16441993 0.17892157\n",
            " 0.17933007 0.19260621 0.20812908 0.18974673 0.18055556 0.18239379\n",
            " 0.17708333 0.17810458 0.18055556 0.17810458 0.17851307 0.19607843\n",
            " 0.18913399 0.18954248 0.19403595 0.19444444 0.20200163 0.19771242\n",
            " 0.19934641 0.19873366 0.1997549  0.2128268  0.21568627 0.20445261\n",
            " 0.21772876 0.21098856 0.21425654 0.19750817 0.18811275 0.17851307\n",
            " 0.17381536 0.16033497 0.16564542 0.17116013 0.17422386 0.18035131\n",
            " 0.17401961 0.16278595 0.16973039 0.17810458 0.17034314 0.16830065\n",
            " 0.17279412 0.17544935 0.18382353 0.19138072 0.18913399 0.19097222\n",
            " 0.17238562 0.16830065 0.1693219  0.17177288 0.16156046 0.14971405\n",
            " 0.1503268  0.15196078 0.14726307 0.14501634 0.14603758 0.12479575\n",
            " 0.13112745 0.11397059 0.1190768  0.12377451 0.13562092 0.12908497\n",
            " 0.13459967 0.12806373 0.13031046 0.12724673 0.13521242 0.14522059\n",
            " 0.15257353 0.14848856 0.14338235 0.14562908 0.15236928 0.15400327\n",
            " 0.14971405 0.1621732  0.16319444 0.16584967 0.16757624 0.17012484\n",
            " 0.17211431 0.17386493 0.17548561 0.17702511 0.17851578 0.1799788\n",
            " 0.18142527 0.18285902 0.18427928 0.1856834 ]\n",
            "12 day output [[0.18706857]]\n",
            "13day input[0.15910948 0.15992647 0.15788399 0.16441993 0.17892157 0.17933007\n",
            " 0.19260621 0.20812908 0.18974673 0.18055556 0.18239379 0.17708333\n",
            " 0.17810458 0.18055556 0.17810458 0.17851307 0.19607843 0.18913399\n",
            " 0.18954248 0.19403595 0.19444444 0.20200163 0.19771242 0.19934641\n",
            " 0.19873366 0.1997549  0.2128268  0.21568627 0.20445261 0.21772876\n",
            " 0.21098856 0.21425654 0.19750817 0.18811275 0.17851307 0.17381536\n",
            " 0.16033497 0.16564542 0.17116013 0.17422386 0.18035131 0.17401961\n",
            " 0.16278595 0.16973039 0.17810458 0.17034314 0.16830065 0.17279412\n",
            " 0.17544935 0.18382353 0.19138072 0.18913399 0.19097222 0.17238562\n",
            " 0.16830065 0.1693219  0.17177288 0.16156046 0.14971405 0.1503268\n",
            " 0.15196078 0.14726307 0.14501634 0.14603758 0.12479575 0.13112745\n",
            " 0.11397059 0.1190768  0.12377451 0.13562092 0.12908497 0.13459967\n",
            " 0.12806373 0.13031046 0.12724673 0.13521242 0.14522059 0.15257353\n",
            " 0.14848856 0.14338235 0.14562908 0.15236928 0.15400327 0.14971405\n",
            " 0.1621732  0.16319444 0.16584967 0.16757624 0.17012484 0.17211431\n",
            " 0.17386493 0.17548561 0.17702511 0.17851578 0.1799788  0.18142527\n",
            " 0.18285902 0.18427928 0.1856834  0.18706857]\n",
            "13 day output [[0.18843254]]\n",
            "14day input[0.15992647 0.15788399 0.16441993 0.17892157 0.17933007 0.19260621\n",
            " 0.20812908 0.18974673 0.18055556 0.18239379 0.17708333 0.17810458\n",
            " 0.18055556 0.17810458 0.17851307 0.19607843 0.18913399 0.18954248\n",
            " 0.19403595 0.19444444 0.20200163 0.19771242 0.19934641 0.19873366\n",
            " 0.1997549  0.2128268  0.21568627 0.20445261 0.21772876 0.21098856\n",
            " 0.21425654 0.19750817 0.18811275 0.17851307 0.17381536 0.16033497\n",
            " 0.16564542 0.17116013 0.17422386 0.18035131 0.17401961 0.16278595\n",
            " 0.16973039 0.17810458 0.17034314 0.16830065 0.17279412 0.17544935\n",
            " 0.18382353 0.19138072 0.18913399 0.19097222 0.17238562 0.16830065\n",
            " 0.1693219  0.17177288 0.16156046 0.14971405 0.1503268  0.15196078\n",
            " 0.14726307 0.14501634 0.14603758 0.12479575 0.13112745 0.11397059\n",
            " 0.1190768  0.12377451 0.13562092 0.12908497 0.13459967 0.12806373\n",
            " 0.13031046 0.12724673 0.13521242 0.14522059 0.15257353 0.14848856\n",
            " 0.14338235 0.14562908 0.15236928 0.15400327 0.14971405 0.1621732\n",
            " 0.16319444 0.16584967 0.16757624 0.17012484 0.17211431 0.17386493\n",
            " 0.17548561 0.17702511 0.17851578 0.1799788  0.18142527 0.18285902\n",
            " 0.18427928 0.1856834  0.18706857 0.18843254]\n",
            "14 day output [[0.18977447]]\n",
            "15day input[0.15788399 0.16441993 0.17892157 0.17933007 0.19260621 0.20812908\n",
            " 0.18974673 0.18055556 0.18239379 0.17708333 0.17810458 0.18055556\n",
            " 0.17810458 0.17851307 0.19607843 0.18913399 0.18954248 0.19403595\n",
            " 0.19444444 0.20200163 0.19771242 0.19934641 0.19873366 0.1997549\n",
            " 0.2128268  0.21568627 0.20445261 0.21772876 0.21098856 0.21425654\n",
            " 0.19750817 0.18811275 0.17851307 0.17381536 0.16033497 0.16564542\n",
            " 0.17116013 0.17422386 0.18035131 0.17401961 0.16278595 0.16973039\n",
            " 0.17810458 0.17034314 0.16830065 0.17279412 0.17544935 0.18382353\n",
            " 0.19138072 0.18913399 0.19097222 0.17238562 0.16830065 0.1693219\n",
            " 0.17177288 0.16156046 0.14971405 0.1503268  0.15196078 0.14726307\n",
            " 0.14501634 0.14603758 0.12479575 0.13112745 0.11397059 0.1190768\n",
            " 0.12377451 0.13562092 0.12908497 0.13459967 0.12806373 0.13031046\n",
            " 0.12724673 0.13521242 0.14522059 0.15257353 0.14848856 0.14338235\n",
            " 0.14562908 0.15236928 0.15400327 0.14971405 0.1621732  0.16319444\n",
            " 0.16584967 0.16757624 0.17012484 0.17211431 0.17386493 0.17548561\n",
            " 0.17702511 0.17851578 0.1799788  0.18142527 0.18285902 0.18427928\n",
            " 0.1856834  0.18706857 0.18843254 0.18977447]\n",
            "15 day output [[0.19109449]]\n",
            "16day input[0.16441993 0.17892157 0.17933007 0.19260621 0.20812908 0.18974673\n",
            " 0.18055556 0.18239379 0.17708333 0.17810458 0.18055556 0.17810458\n",
            " 0.17851307 0.19607843 0.18913399 0.18954248 0.19403595 0.19444444\n",
            " 0.20200163 0.19771242 0.19934641 0.19873366 0.1997549  0.2128268\n",
            " 0.21568627 0.20445261 0.21772876 0.21098856 0.21425654 0.19750817\n",
            " 0.18811275 0.17851307 0.17381536 0.16033497 0.16564542 0.17116013\n",
            " 0.17422386 0.18035131 0.17401961 0.16278595 0.16973039 0.17810458\n",
            " 0.17034314 0.16830065 0.17279412 0.17544935 0.18382353 0.19138072\n",
            " 0.18913399 0.19097222 0.17238562 0.16830065 0.1693219  0.17177288\n",
            " 0.16156046 0.14971405 0.1503268  0.15196078 0.14726307 0.14501634\n",
            " 0.14603758 0.12479575 0.13112745 0.11397059 0.1190768  0.12377451\n",
            " 0.13562092 0.12908497 0.13459967 0.12806373 0.13031046 0.12724673\n",
            " 0.13521242 0.14522059 0.15257353 0.14848856 0.14338235 0.14562908\n",
            " 0.15236928 0.15400327 0.14971405 0.1621732  0.16319444 0.16584967\n",
            " 0.16757624 0.17012484 0.17211431 0.17386493 0.17548561 0.17702511\n",
            " 0.17851578 0.1799788  0.18142527 0.18285902 0.18427928 0.1856834\n",
            " 0.18706857 0.18843254 0.18977447 0.19109449]\n",
            "16 day output [[0.19239359]]\n",
            "17day input[0.17892157 0.17933007 0.19260621 0.20812908 0.18974673 0.18055556\n",
            " 0.18239379 0.17708333 0.17810458 0.18055556 0.17810458 0.17851307\n",
            " 0.19607843 0.18913399 0.18954248 0.19403595 0.19444444 0.20200163\n",
            " 0.19771242 0.19934641 0.19873366 0.1997549  0.2128268  0.21568627\n",
            " 0.20445261 0.21772876 0.21098856 0.21425654 0.19750817 0.18811275\n",
            " 0.17851307 0.17381536 0.16033497 0.16564542 0.17116013 0.17422386\n",
            " 0.18035131 0.17401961 0.16278595 0.16973039 0.17810458 0.17034314\n",
            " 0.16830065 0.17279412 0.17544935 0.18382353 0.19138072 0.18913399\n",
            " 0.19097222 0.17238562 0.16830065 0.1693219  0.17177288 0.16156046\n",
            " 0.14971405 0.1503268  0.15196078 0.14726307 0.14501634 0.14603758\n",
            " 0.12479575 0.13112745 0.11397059 0.1190768  0.12377451 0.13562092\n",
            " 0.12908497 0.13459967 0.12806373 0.13031046 0.12724673 0.13521242\n",
            " 0.14522059 0.15257353 0.14848856 0.14338235 0.14562908 0.15236928\n",
            " 0.15400327 0.14971405 0.1621732  0.16319444 0.16584967 0.16757624\n",
            " 0.17012484 0.17211431 0.17386493 0.17548561 0.17702511 0.17851578\n",
            " 0.1799788  0.18142527 0.18285902 0.18427928 0.1856834  0.18706857\n",
            " 0.18843254 0.18977447 0.19109449 0.19239359]\n",
            "17 day output [[0.19367324]]\n",
            "18day input[0.17933007 0.19260621 0.20812908 0.18974673 0.18055556 0.18239379\n",
            " 0.17708333 0.17810458 0.18055556 0.17810458 0.17851307 0.19607843\n",
            " 0.18913399 0.18954248 0.19403595 0.19444444 0.20200163 0.19771242\n",
            " 0.19934641 0.19873366 0.1997549  0.2128268  0.21568627 0.20445261\n",
            " 0.21772876 0.21098856 0.21425654 0.19750817 0.18811275 0.17851307\n",
            " 0.17381536 0.16033497 0.16564542 0.17116013 0.17422386 0.18035131\n",
            " 0.17401961 0.16278595 0.16973039 0.17810458 0.17034314 0.16830065\n",
            " 0.17279412 0.17544935 0.18382353 0.19138072 0.18913399 0.19097222\n",
            " 0.17238562 0.16830065 0.1693219  0.17177288 0.16156046 0.14971405\n",
            " 0.1503268  0.15196078 0.14726307 0.14501634 0.14603758 0.12479575\n",
            " 0.13112745 0.11397059 0.1190768  0.12377451 0.13562092 0.12908497\n",
            " 0.13459967 0.12806373 0.13031046 0.12724673 0.13521242 0.14522059\n",
            " 0.15257353 0.14848856 0.14338235 0.14562908 0.15236928 0.15400327\n",
            " 0.14971405 0.1621732  0.16319444 0.16584967 0.16757624 0.17012484\n",
            " 0.17211431 0.17386493 0.17548561 0.17702511 0.17851578 0.1799788\n",
            " 0.18142527 0.18285902 0.18427928 0.1856834  0.18706857 0.18843254\n",
            " 0.18977447 0.19109449 0.19239359 0.19367324]\n",
            "18 day output [[0.19493541]]\n",
            "19day input[0.19260621 0.20812908 0.18974673 0.18055556 0.18239379 0.17708333\n",
            " 0.17810458 0.18055556 0.17810458 0.17851307 0.19607843 0.18913399\n",
            " 0.18954248 0.19403595 0.19444444 0.20200163 0.19771242 0.19934641\n",
            " 0.19873366 0.1997549  0.2128268  0.21568627 0.20445261 0.21772876\n",
            " 0.21098856 0.21425654 0.19750817 0.18811275 0.17851307 0.17381536\n",
            " 0.16033497 0.16564542 0.17116013 0.17422386 0.18035131 0.17401961\n",
            " 0.16278595 0.16973039 0.17810458 0.17034314 0.16830065 0.17279412\n",
            " 0.17544935 0.18382353 0.19138072 0.18913399 0.19097222 0.17238562\n",
            " 0.16830065 0.1693219  0.17177288 0.16156046 0.14971405 0.1503268\n",
            " 0.15196078 0.14726307 0.14501634 0.14603758 0.12479575 0.13112745\n",
            " 0.11397059 0.1190768  0.12377451 0.13562092 0.12908497 0.13459967\n",
            " 0.12806373 0.13031046 0.12724673 0.13521242 0.14522059 0.15257353\n",
            " 0.14848856 0.14338235 0.14562908 0.15236928 0.15400327 0.14971405\n",
            " 0.1621732  0.16319444 0.16584967 0.16757624 0.17012484 0.17211431\n",
            " 0.17386493 0.17548561 0.17702511 0.17851578 0.1799788  0.18142527\n",
            " 0.18285902 0.18427928 0.1856834  0.18706857 0.18843254 0.18977447\n",
            " 0.19109449 0.19239359 0.19367324 0.19493541]\n",
            "19 day output [[0.19618157]]\n",
            "20day input[0.20812908 0.18974673 0.18055556 0.18239379 0.17708333 0.17810458\n",
            " 0.18055556 0.17810458 0.17851307 0.19607843 0.18913399 0.18954248\n",
            " 0.19403595 0.19444444 0.20200163 0.19771242 0.19934641 0.19873366\n",
            " 0.1997549  0.2128268  0.21568627 0.20445261 0.21772876 0.21098856\n",
            " 0.21425654 0.19750817 0.18811275 0.17851307 0.17381536 0.16033497\n",
            " 0.16564542 0.17116013 0.17422386 0.18035131 0.17401961 0.16278595\n",
            " 0.16973039 0.17810458 0.17034314 0.16830065 0.17279412 0.17544935\n",
            " 0.18382353 0.19138072 0.18913399 0.19097222 0.17238562 0.16830065\n",
            " 0.1693219  0.17177288 0.16156046 0.14971405 0.1503268  0.15196078\n",
            " 0.14726307 0.14501634 0.14603758 0.12479575 0.13112745 0.11397059\n",
            " 0.1190768  0.12377451 0.13562092 0.12908497 0.13459967 0.12806373\n",
            " 0.13031046 0.12724673 0.13521242 0.14522059 0.15257353 0.14848856\n",
            " 0.14338235 0.14562908 0.15236928 0.15400327 0.14971405 0.1621732\n",
            " 0.16319444 0.16584967 0.16757624 0.17012484 0.17211431 0.17386493\n",
            " 0.17548561 0.17702511 0.17851578 0.1799788  0.18142527 0.18285902\n",
            " 0.18427928 0.1856834  0.18706857 0.18843254 0.18977447 0.19109449\n",
            " 0.19239359 0.19367324 0.19493541 0.19618157]\n",
            "20 day output [[0.19741319]]\n",
            "21day input[0.18974673 0.18055556 0.18239379 0.17708333 0.17810458 0.18055556\n",
            " 0.17810458 0.17851307 0.19607843 0.18913399 0.18954248 0.19403595\n",
            " 0.19444444 0.20200163 0.19771242 0.19934641 0.19873366 0.1997549\n",
            " 0.2128268  0.21568627 0.20445261 0.21772876 0.21098856 0.21425654\n",
            " 0.19750817 0.18811275 0.17851307 0.17381536 0.16033497 0.16564542\n",
            " 0.17116013 0.17422386 0.18035131 0.17401961 0.16278595 0.16973039\n",
            " 0.17810458 0.17034314 0.16830065 0.17279412 0.17544935 0.18382353\n",
            " 0.19138072 0.18913399 0.19097222 0.17238562 0.16830065 0.1693219\n",
            " 0.17177288 0.16156046 0.14971405 0.1503268  0.15196078 0.14726307\n",
            " 0.14501634 0.14603758 0.12479575 0.13112745 0.11397059 0.1190768\n",
            " 0.12377451 0.13562092 0.12908497 0.13459967 0.12806373 0.13031046\n",
            " 0.12724673 0.13521242 0.14522059 0.15257353 0.14848856 0.14338235\n",
            " 0.14562908 0.15236928 0.15400327 0.14971405 0.1621732  0.16319444\n",
            " 0.16584967 0.16757624 0.17012484 0.17211431 0.17386493 0.17548561\n",
            " 0.17702511 0.17851578 0.1799788  0.18142527 0.18285902 0.18427928\n",
            " 0.1856834  0.18706857 0.18843254 0.18977447 0.19109449 0.19239359\n",
            " 0.19367324 0.19493541 0.19618157 0.19741319]\n",
            "21 day output [[0.19863145]]\n",
            "22day input[0.18055556 0.18239379 0.17708333 0.17810458 0.18055556 0.17810458\n",
            " 0.17851307 0.19607843 0.18913399 0.18954248 0.19403595 0.19444444\n",
            " 0.20200163 0.19771242 0.19934641 0.19873366 0.1997549  0.2128268\n",
            " 0.21568627 0.20445261 0.21772876 0.21098856 0.21425654 0.19750817\n",
            " 0.18811275 0.17851307 0.17381536 0.16033497 0.16564542 0.17116013\n",
            " 0.17422386 0.18035131 0.17401961 0.16278595 0.16973039 0.17810458\n",
            " 0.17034314 0.16830065 0.17279412 0.17544935 0.18382353 0.19138072\n",
            " 0.18913399 0.19097222 0.17238562 0.16830065 0.1693219  0.17177288\n",
            " 0.16156046 0.14971405 0.1503268  0.15196078 0.14726307 0.14501634\n",
            " 0.14603758 0.12479575 0.13112745 0.11397059 0.1190768  0.12377451\n",
            " 0.13562092 0.12908497 0.13459967 0.12806373 0.13031046 0.12724673\n",
            " 0.13521242 0.14522059 0.15257353 0.14848856 0.14338235 0.14562908\n",
            " 0.15236928 0.15400327 0.14971405 0.1621732  0.16319444 0.16584967\n",
            " 0.16757624 0.17012484 0.17211431 0.17386493 0.17548561 0.17702511\n",
            " 0.17851578 0.1799788  0.18142527 0.18285902 0.18427928 0.1856834\n",
            " 0.18706857 0.18843254 0.18977447 0.19109449 0.19239359 0.19367324\n",
            " 0.19493541 0.19618157 0.19741319 0.19863145]\n",
            "22 day output [[0.19983703]]\n",
            "23day input[0.18239379 0.17708333 0.17810458 0.18055556 0.17810458 0.17851307\n",
            " 0.19607843 0.18913399 0.18954248 0.19403595 0.19444444 0.20200163\n",
            " 0.19771242 0.19934641 0.19873366 0.1997549  0.2128268  0.21568627\n",
            " 0.20445261 0.21772876 0.21098856 0.21425654 0.19750817 0.18811275\n",
            " 0.17851307 0.17381536 0.16033497 0.16564542 0.17116013 0.17422386\n",
            " 0.18035131 0.17401961 0.16278595 0.16973039 0.17810458 0.17034314\n",
            " 0.16830065 0.17279412 0.17544935 0.18382353 0.19138072 0.18913399\n",
            " 0.19097222 0.17238562 0.16830065 0.1693219  0.17177288 0.16156046\n",
            " 0.14971405 0.1503268  0.15196078 0.14726307 0.14501634 0.14603758\n",
            " 0.12479575 0.13112745 0.11397059 0.1190768  0.12377451 0.13562092\n",
            " 0.12908497 0.13459967 0.12806373 0.13031046 0.12724673 0.13521242\n",
            " 0.14522059 0.15257353 0.14848856 0.14338235 0.14562908 0.15236928\n",
            " 0.15400327 0.14971405 0.1621732  0.16319444 0.16584967 0.16757624\n",
            " 0.17012484 0.17211431 0.17386493 0.17548561 0.17702511 0.17851578\n",
            " 0.1799788  0.18142527 0.18285902 0.18427928 0.1856834  0.18706857\n",
            " 0.18843254 0.18977447 0.19109449 0.19239359 0.19367324 0.19493541\n",
            " 0.19618157 0.19741319 0.19863145 0.19983703]\n",
            "23 day output [[0.20103039]]\n",
            "24day input[0.17708333 0.17810458 0.18055556 0.17810458 0.17851307 0.19607843\n",
            " 0.18913399 0.18954248 0.19403595 0.19444444 0.20200163 0.19771242\n",
            " 0.19934641 0.19873366 0.1997549  0.2128268  0.21568627 0.20445261\n",
            " 0.21772876 0.21098856 0.21425654 0.19750817 0.18811275 0.17851307\n",
            " 0.17381536 0.16033497 0.16564542 0.17116013 0.17422386 0.18035131\n",
            " 0.17401961 0.16278595 0.16973039 0.17810458 0.17034314 0.16830065\n",
            " 0.17279412 0.17544935 0.18382353 0.19138072 0.18913399 0.19097222\n",
            " 0.17238562 0.16830065 0.1693219  0.17177288 0.16156046 0.14971405\n",
            " 0.1503268  0.15196078 0.14726307 0.14501634 0.14603758 0.12479575\n",
            " 0.13112745 0.11397059 0.1190768  0.12377451 0.13562092 0.12908497\n",
            " 0.13459967 0.12806373 0.13031046 0.12724673 0.13521242 0.14522059\n",
            " 0.15257353 0.14848856 0.14338235 0.14562908 0.15236928 0.15400327\n",
            " 0.14971405 0.1621732  0.16319444 0.16584967 0.16757624 0.17012484\n",
            " 0.17211431 0.17386493 0.17548561 0.17702511 0.17851578 0.1799788\n",
            " 0.18142527 0.18285902 0.18427928 0.1856834  0.18706857 0.18843254\n",
            " 0.18977447 0.19109449 0.19239359 0.19367324 0.19493541 0.19618157\n",
            " 0.19741319 0.19863145 0.19983703 0.20103039]\n",
            "24 day output [[0.20221174]]\n",
            "25day input[0.17810458 0.18055556 0.17810458 0.17851307 0.19607843 0.18913399\n",
            " 0.18954248 0.19403595 0.19444444 0.20200163 0.19771242 0.19934641\n",
            " 0.19873366 0.1997549  0.2128268  0.21568627 0.20445261 0.21772876\n",
            " 0.21098856 0.21425654 0.19750817 0.18811275 0.17851307 0.17381536\n",
            " 0.16033497 0.16564542 0.17116013 0.17422386 0.18035131 0.17401961\n",
            " 0.16278595 0.16973039 0.17810458 0.17034314 0.16830065 0.17279412\n",
            " 0.17544935 0.18382353 0.19138072 0.18913399 0.19097222 0.17238562\n",
            " 0.16830065 0.1693219  0.17177288 0.16156046 0.14971405 0.1503268\n",
            " 0.15196078 0.14726307 0.14501634 0.14603758 0.12479575 0.13112745\n",
            " 0.11397059 0.1190768  0.12377451 0.13562092 0.12908497 0.13459967\n",
            " 0.12806373 0.13031046 0.12724673 0.13521242 0.14522059 0.15257353\n",
            " 0.14848856 0.14338235 0.14562908 0.15236928 0.15400327 0.14971405\n",
            " 0.1621732  0.16319444 0.16584967 0.16757624 0.17012484 0.17211431\n",
            " 0.17386493 0.17548561 0.17702511 0.17851578 0.1799788  0.18142527\n",
            " 0.18285902 0.18427928 0.1856834  0.18706857 0.18843254 0.18977447\n",
            " 0.19109449 0.19239359 0.19367324 0.19493541 0.19618157 0.19741319\n",
            " 0.19863145 0.19983703 0.20103039 0.20221174]\n",
            "25 day output [[0.20338114]]\n",
            "26day input[0.18055556 0.17810458 0.17851307 0.19607843 0.18913399 0.18954248\n",
            " 0.19403595 0.19444444 0.20200163 0.19771242 0.19934641 0.19873366\n",
            " 0.1997549  0.2128268  0.21568627 0.20445261 0.21772876 0.21098856\n",
            " 0.21425654 0.19750817 0.18811275 0.17851307 0.17381536 0.16033497\n",
            " 0.16564542 0.17116013 0.17422386 0.18035131 0.17401961 0.16278595\n",
            " 0.16973039 0.17810458 0.17034314 0.16830065 0.17279412 0.17544935\n",
            " 0.18382353 0.19138072 0.18913399 0.19097222 0.17238562 0.16830065\n",
            " 0.1693219  0.17177288 0.16156046 0.14971405 0.1503268  0.15196078\n",
            " 0.14726307 0.14501634 0.14603758 0.12479575 0.13112745 0.11397059\n",
            " 0.1190768  0.12377451 0.13562092 0.12908497 0.13459967 0.12806373\n",
            " 0.13031046 0.12724673 0.13521242 0.14522059 0.15257353 0.14848856\n",
            " 0.14338235 0.14562908 0.15236928 0.15400327 0.14971405 0.1621732\n",
            " 0.16319444 0.16584967 0.16757624 0.17012484 0.17211431 0.17386493\n",
            " 0.17548561 0.17702511 0.17851578 0.1799788  0.18142527 0.18285902\n",
            " 0.18427928 0.1856834  0.18706857 0.18843254 0.18977447 0.19109449\n",
            " 0.19239359 0.19367324 0.19493541 0.19618157 0.19741319 0.19863145\n",
            " 0.19983703 0.20103039 0.20221174 0.20338114]\n",
            "26 day output [[0.2045386]]\n",
            "27day input[0.17810458 0.17851307 0.19607843 0.18913399 0.18954248 0.19403595\n",
            " 0.19444444 0.20200163 0.19771242 0.19934641 0.19873366 0.1997549\n",
            " 0.2128268  0.21568627 0.20445261 0.21772876 0.21098856 0.21425654\n",
            " 0.19750817 0.18811275 0.17851307 0.17381536 0.16033497 0.16564542\n",
            " 0.17116013 0.17422386 0.18035131 0.17401961 0.16278595 0.16973039\n",
            " 0.17810458 0.17034314 0.16830065 0.17279412 0.17544935 0.18382353\n",
            " 0.19138072 0.18913399 0.19097222 0.17238562 0.16830065 0.1693219\n",
            " 0.17177288 0.16156046 0.14971405 0.1503268  0.15196078 0.14726307\n",
            " 0.14501634 0.14603758 0.12479575 0.13112745 0.11397059 0.1190768\n",
            " 0.12377451 0.13562092 0.12908497 0.13459967 0.12806373 0.13031046\n",
            " 0.12724673 0.13521242 0.14522059 0.15257353 0.14848856 0.14338235\n",
            " 0.14562908 0.15236928 0.15400327 0.14971405 0.1621732  0.16319444\n",
            " 0.16584967 0.16757624 0.17012484 0.17211431 0.17386493 0.17548561\n",
            " 0.17702511 0.17851578 0.1799788  0.18142527 0.18285902 0.18427928\n",
            " 0.1856834  0.18706857 0.18843254 0.18977447 0.19109449 0.19239359\n",
            " 0.19367324 0.19493541 0.19618157 0.19741319 0.19863145 0.19983703\n",
            " 0.20103039 0.20221174 0.20338114 0.2045386 ]\n",
            "27 day output [[0.20568408]]\n",
            "28day input[0.17851307 0.19607843 0.18913399 0.18954248 0.19403595 0.19444444\n",
            " 0.20200163 0.19771242 0.19934641 0.19873366 0.1997549  0.2128268\n",
            " 0.21568627 0.20445261 0.21772876 0.21098856 0.21425654 0.19750817\n",
            " 0.18811275 0.17851307 0.17381536 0.16033497 0.16564542 0.17116013\n",
            " 0.17422386 0.18035131 0.17401961 0.16278595 0.16973039 0.17810458\n",
            " 0.17034314 0.16830065 0.17279412 0.17544935 0.18382353 0.19138072\n",
            " 0.18913399 0.19097222 0.17238562 0.16830065 0.1693219  0.17177288\n",
            " 0.16156046 0.14971405 0.1503268  0.15196078 0.14726307 0.14501634\n",
            " 0.14603758 0.12479575 0.13112745 0.11397059 0.1190768  0.12377451\n",
            " 0.13562092 0.12908497 0.13459967 0.12806373 0.13031046 0.12724673\n",
            " 0.13521242 0.14522059 0.15257353 0.14848856 0.14338235 0.14562908\n",
            " 0.15236928 0.15400327 0.14971405 0.1621732  0.16319444 0.16584967\n",
            " 0.16757624 0.17012484 0.17211431 0.17386493 0.17548561 0.17702511\n",
            " 0.17851578 0.1799788  0.18142527 0.18285902 0.18427928 0.1856834\n",
            " 0.18706857 0.18843254 0.18977447 0.19109449 0.19239359 0.19367324\n",
            " 0.19493541 0.19618157 0.19741319 0.19863145 0.19983703 0.20103039\n",
            " 0.20221174 0.20338114 0.2045386  0.20568408]\n",
            "28 day output [[0.20681748]]\n",
            "29day input[0.19607843 0.18913399 0.18954248 0.19403595 0.19444444 0.20200163\n",
            " 0.19771242 0.19934641 0.19873366 0.1997549  0.2128268  0.21568627\n",
            " 0.20445261 0.21772876 0.21098856 0.21425654 0.19750817 0.18811275\n",
            " 0.17851307 0.17381536 0.16033497 0.16564542 0.17116013 0.17422386\n",
            " 0.18035131 0.17401961 0.16278595 0.16973039 0.17810458 0.17034314\n",
            " 0.16830065 0.17279412 0.17544935 0.18382353 0.19138072 0.18913399\n",
            " 0.19097222 0.17238562 0.16830065 0.1693219  0.17177288 0.16156046\n",
            " 0.14971405 0.1503268  0.15196078 0.14726307 0.14501634 0.14603758\n",
            " 0.12479575 0.13112745 0.11397059 0.1190768  0.12377451 0.13562092\n",
            " 0.12908497 0.13459967 0.12806373 0.13031046 0.12724673 0.13521242\n",
            " 0.14522059 0.15257353 0.14848856 0.14338235 0.14562908 0.15236928\n",
            " 0.15400327 0.14971405 0.1621732  0.16319444 0.16584967 0.16757624\n",
            " 0.17012484 0.17211431 0.17386493 0.17548561 0.17702511 0.17851578\n",
            " 0.1799788  0.18142527 0.18285902 0.18427928 0.1856834  0.18706857\n",
            " 0.18843254 0.18977447 0.19109449 0.19239359 0.19367324 0.19493541\n",
            " 0.19618157 0.19741319 0.19863145 0.19983703 0.20103039 0.20221174\n",
            " 0.20338114 0.2045386  0.20568408 0.20681748]\n",
            "29 day output [[0.20793884]]\n",
            "[[0.16757623851299286], [0.1701248437166214], [0.1721143126487732], [0.1738649308681488], [0.17548561096191406], [0.17702510952949524], [0.17851577699184418], [0.17997880280017853], [0.1814252734184265], [0.18285901844501495], [0.18427927792072296], [0.18568339943885803], [0.18706856667995453], [0.18843254446983337], [0.18977446854114532], [0.19109448790550232], [0.19239358603954315], [0.193673238158226], [0.1949354112148285], [0.19618156552314758], [0.19741319119930267], [0.19863145053386688], [0.19983702898025513], [0.20103038847446442], [0.20221173763275146], [0.20338113605976105], [0.20453859865665436], [0.20568408071994781], [0.20681747794151306], [0.20793883502483368]]\n"
          ]
        }
      ]
    },
    {
      "cell_type": "code",
      "source": [
        "day_new = np.arange(1,101)\n",
        "day_pred = np.arange(101,131)"
      ],
      "metadata": {
        "id": "MD9na5r5ICyA"
      },
      "execution_count": 33,
      "outputs": []
    },
    {
      "cell_type": "code",
      "source": [
        "df3 = data_close.tolist()\n",
        "df3.extend(first_output)"
      ],
      "metadata": {
        "id": "MM4FNw3lJ5cQ"
      },
      "execution_count": 34,
      "outputs": []
    },
    {
      "cell_type": "code",
      "source": [
        "len(data_close)"
      ],
      "metadata": {
        "colab": {
          "base_uri": "https://localhost:8080/"
        },
        "id": "Bux9JrIYKLU-",
        "outputId": "06a505fb-e3d4-4020-c6c0-2f185e8576bc"
      },
      "execution_count": 35,
      "outputs": [
        {
          "output_type": "execute_result",
          "data": {
            "text/plain": [
              "2035"
            ]
          },
          "metadata": {},
          "execution_count": 35
        }
      ]
    },
    {
      "cell_type": "code",
      "source": [
        "plt.plot(day_new, scaler.inverse_transform(data_close[1935:]))\n",
        "plt.plot(day_pred, scaler.inverse_transform(first_output))"
      ],
      "metadata": {
        "colab": {
          "base_uri": "https://localhost:8080/",
          "height": 282
        },
        "id": "-iO10EmGKRZV",
        "outputId": "2a8f7735-bc02-48b8-db53-e87e7e05e0e5"
      },
      "execution_count": 36,
      "outputs": [
        {
          "output_type": "execute_result",
          "data": {
            "text/plain": [
              "[<matplotlib.lines.Line2D at 0x7fac81bd0ed0>]"
            ]
          },
          "metadata": {},
          "execution_count": 36
        },
        {
          "output_type": "display_data",
          "data": {
            "image/png": "[encoded data removed]",
            "text/plain": [
              "<Figure size 432x288 with 1 Axes>"
            ]
          },
          "metadata": {
            "needs_background": "light"
          }
        }
      ]
    },
    {
      "cell_type": "code",
      "source": [
        ""
      ],
      "metadata": {
        "id": "MtUOW4ArKXuK"
      },
      "execution_count": null,
      "outputs": []
    }
  ]
}